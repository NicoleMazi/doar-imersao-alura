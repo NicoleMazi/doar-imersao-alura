{
  "nbformat": 4,
  "nbformat_minor": 0,
  "metadata": {
    "colab": {
      "provenance": [],
      "authorship_tag": "ABX9TyP2eOtnwvrmk7J3G5XF70jl",
      "include_colab_link": true
    },
    "kernelspec": {
      "name": "python3",
      "display_name": "Python 3"
    },
    "language_info": {
      "name": "python"
    }
  },
  "cells": [
    {
      "cell_type": "markdown",
      "metadata": {
        "id": "view-in-github",
        "colab_type": "text"
      },
      "source": [
        "<a href=\"https://colab.research.google.com/github/NicoleMazi/doar-imersao-alura/blob/main/Projeto_Imers%C3%A3o_Alura_%2B_Gemini_IA.ipynb\" target=\"_parent\"><img src=\"https://colab.research.google.com/assets/colab-badge.svg\" alt=\"Open In Colab\"/></a>"
      ]
    },
    {
      "cell_type": "code",
      "source": [
        "%pip -q install google-genai"
      ],
      "metadata": {
        "id": "h39GJCrrXnff"
      },
      "execution_count": 5,
      "outputs": []
    },
    {
      "cell_type": "code",
      "source": [
        "import os\n",
        "from google.colab import userdata\n",
        "\n",
        "os.environ[\"GOOGLE_API_KEY\"] = userdata.get('GOOGLE_API_KEY')"
      ],
      "metadata": {
        "id": "usCWWkFlXxU1"
      },
      "execution_count": 6,
      "outputs": []
    },
    {
      "cell_type": "code",
      "source": [
        "from google import genai\n",
        "\n",
        "client = genai.Client()\n",
        "\n",
        "MODEL_ID = \"gemini-2.0-flash\""
      ],
      "metadata": {
        "id": "Kk_o8oZMX2IN"
      },
      "execution_count": 21,
      "outputs": []
    },
    {
      "cell_type": "code",
      "source": [
        "# Lista de ofertas de doação (simuladas) - Foco em Biguaçu\n",
        "ofertas = [\n",
        "    \"Roupas de inverno para crianças, diversos tamanhos\",\n",
        "    \"Móveis usados em bom estado: um sofá e uma mesa pequena\",\n",
        "    \"Alimentos não perecíveis: arroz, feijão, macarrão\",\n",
        "    \"Um cobertor quente e alguns lençóis\",\n",
        "    \"Serviço de pequenos reparos domésticos (encanamento básico)\"\n",
        "]\n",
        "\n",
        "# Lista de necessidades (simuladas) - Foco em Biguaçu\n",
        "necessidades = [\n",
        "    \"Preciso de roupas quentes para meus filhos neste inverno\",\n",
        "    \"Estamos precisando de um sofá para a sala\",\n",
        "    \"Gostaríamos de receber doações de alimentos para nossa família\",\n",
        "    \"Necessito de um cobertor para me aquecer à noite\",\n",
        "    \"Meu chuveiro está vazando, preciso de ajuda para consertar\"\n",
        "]\n",
        "\n",
        "print(\"Listas de ofertas e necessidades definidas.\")"
      ],
      "metadata": {
        "colab": {
          "base_uri": "https://localhost:8080/"
        },
        "id": "pHXUo_wDaVI3",
        "outputId": "7fa3d97e-014d-4c30-a02b-5e1d3620852b"
      },
      "execution_count": 17,
      "outputs": [
        {
          "output_type": "stream",
          "name": "stdout",
          "text": [
            "Listas de ofertas e necessidades definidas.\n"
          ]
        }
      ]
    },
    {
      "cell_type": "code",
      "source": [
        "# Inicializa o modelo Gemini Flash\n",
        "MODEL_ID = \"gemini-2.0-flash\"\n",
        "model = genai.GenerativeModel(MODEL_ID)\n",
        "data_de_hoje = date.today().strftime(\"%Y-%m-%d\") # Captura a data de hoje\n",
        "\n",
        "def agente_de_match(oferta, necessidades, localizacao):\n",
        "    \"\"\"\n",
        "    Agente que usa o Gemini Flash para encontrar a necessidade mais relevante para uma oferta.\n",
        "    \"\"\"\n",
        "    prompt = f\"\"\"Você é um agente de matching de necessidades. Dada a seguinte oferta de doação: '{oferta}',\n",
        "    e a seguinte lista de necessidades em {localizacao}: '{', '.join(necessidades)}',\n",
        "    identifique a necessidade e conecte com os doadores de forma simples e sem muito texto.\n",
        "    \"\"\"\n",
        "    try:\n",
        "        response = model.generate_content(\n",
        "            contents=[{\"role\": \"user\", \"parts\": [prompt]}],\n",
        "            generation_config={\"max_output_tokens\": 150} # Limita a resposta para concisão\n",
        "        )\n",
        "        return response.text\n",
        "    except Exception as e:\n",
        "        return f\"Erro ao processar o match: {e}\"\n",
        "\n",
        "def agente_redator(oferta, necessidade_match, localizacao):\n",
        "    \"\"\"\n",
        "    Agente redator para gerar uma breve mensagem de conexão entre doador e necessitado.\n",
        "    \"\"\"\n",
        "    prompt = f\"\"\"Você é um facilitador de doações. Dada a oferta: '{oferta}' e a necessidade: '{necessidade_match}' na região de {localizacao},\n",
        "    crie uma mensagem curta e direta (máximo 2 frases) para incentivar o doador a entrar em contato ou a oferecer ajuda.\"\"\"\n",
        "    try:\n",
        "        response = model.generate_content(\n",
        "            contents=[{\"role\": \"user\", \"parts\": [prompt]}],\n",
        "            generation_config={\"max_output_tokens\": 50} # Reduzindo ainda mais o limite\n",
        "        )\n",
        "        return response.text\n",
        "    except Exception as e:\n",
        "        return f\"Erro ao gerar mensagem: {e}\"\n",
        "\n",
        "print(\"Sugestões Inteligentes de Doações e Necessidades com Agentes Gemini Flash:\\n\")\n",
        "\n",
        "localizacao_usuario = \"Biguaçu -SC\"\n",
        "\n",
        "ofertas = [\n",
        "    \"Roupas de inverno para crianças, diversos tamanhos\",\n",
        "    \"Móveis usados em bom estado: um sofá e uma mesa pequena\",\n",
        "    \"Alimentos não perecíveis: arroz, feijão, macarrão\",\n",
        "    \"Um cobertor quente e alguns lençóis\",\n",
        "    \"Serviço de pequenos reparos domésticos (encanamento básico)\"\n",
        "]\n",
        "\n",
        "necessidades = [\n",
        "    \"Preciso de roupas quentes para meus filhos neste inverno\",\n",
        "    \"Estamos precisando de um sofá para a sala\",\n",
        "    \"Gostaríamos de receber doações de alimentos para nossa família\",\n",
        "    \"Necessito de um cobertor para me aquecer à noite\",\n",
        "    \"Meu chuveiro está vazando, preciso de ajuda para consertar\"\n",
        "]\n",
        "\n",
        "for oferta in ofertas:\n",
        "    resultado_match = agente_de_match(oferta, necessidades, localizacao_usuario)\n",
        "    descricao_redator = agente_redator(oferta, resultado_match, localizacao_usuario)\n",
        "\n",
        "    print(f\"*🫱🏻Oferta: {oferta}\")\n",
        "    print(f\"✅Match Encontrado:\\n{resultado_match}\\n\")\n",
        "    print(f\"Sugestão de mensagem: {descricao_redator}\\n\")\n",
        "    print(\"-\" * 30 + \"\\n\")\n",
        "\n",
        "print(\"\\nFim das sugestões.\")"
      ],
      "metadata": {
        "colab": {
          "base_uri": "https://localhost:8080/"
        },
        "id": "EF2wQBENo0pK",
        "outputId": "1b915bd0-9d2c-44d7-f230-c1f04fbad398"
      },
      "execution_count": 44,
      "outputs": [
        {
          "output_type": "stream",
          "name": "stdout",
          "text": [
            "Sugestões Inteligentes de Doações e Necessidades com Agentes Gemini Flash:\n",
            "\n",
            "*🫱🏻Oferta: Roupas de inverno para crianças, diversos tamanhos\n",
            "✅Match Encontrado:\n",
            "**Doação:** Roupas de inverno para crianças, diversos tamanhos.\n",
            "\n",
            "**Necessidade Correspondente:** Preciso de roupas quentes para meus filhos neste inverno.\n",
            "\n",
            "**Conexão:** A doação de roupas de inverno para crianças pode atender à necessidade de roupas quentes para os filhos.\n",
            "\n",
            "\n",
            "Sugestão de mensagem: Sua doação de roupas de inverno pode aquecer o inverno de crianças em Biguaçu! Entre em contato para fazer a diferença.\n",
            "\n",
            "\n",
            "------------------------------\n",
            "\n",
            "*🫱🏻Oferta: Móveis usados em bom estado: um sofá e uma mesa pequena\n",
            "✅Match Encontrado:\n",
            "**Necessidade:** Estamos precisando de um sofá para a sala.\n",
            "\n",
            "**Conexão:** A oferta de \"Móveis usados em bom estado: um sofá e uma mesa pequena\" corresponde à necessidade.\n",
            "\n",
            "\n",
            "Sugestão de mensagem: Sua doação de sofá é perfeita para quem precisa! Que tal entrar em contato e fazer a diferença na vida de alguém em Biguaçu?\n",
            "\n",
            "\n",
            "------------------------------\n",
            "\n",
            "*🫱🏻Oferta: Alimentos não perecíveis: arroz, feijão, macarrão\n",
            "✅Match Encontrado:\n",
            "**Necessidade:** \"Gostaríamos de receber doações de alimentos para nossa família\"\n",
            "\n",
            "**Conexão:** Doadores de alimentos não perecíveis (arroz, feijão, macarrão) podem ajudar esta família em Biguaçu.\n",
            "\n",
            "\n",
            "Sugestão de mensagem: Sua doação de arroz, feijão e macarrão pode fazer a diferença na vida de uma família em Biguaçu! Entre em contato para combinar a entrega e levar esperança à mesa deles.\n",
            "\n",
            "\n",
            "------------------------------\n",
            "\n",
            "*🫱🏻Oferta: Um cobertor quente e alguns lençóis\n",
            "✅Match Encontrado:\n",
            "**Necessidade:** Cobertor para se aquecer à noite.\n",
            "\n",
            "**Conexão:** A doação de \"um cobertor quente\" atende diretamente a essa necessidade.\n",
            "\n",
            "\n",
            "Sugestão de mensagem: Um cobertor quente faz toda a diferença nas noites frias em Biguaçu! Sua doação pode aquecer quem precisa: entre em contato e ajude a transformar essa necessidade em conforto.\n",
            "\n",
            "\n",
            "------------------------------\n",
            "\n",
            "*🫱🏻Oferta: Serviço de pequenos reparos domésticos (encanamento básico)\n",
            "✅Match Encontrado:\n",
            "**Conexão:**\n",
            "\n",
            "*   **Oferta:** Serviço de pequenos reparos domésticos (encanamento básico)\n",
            "*   **Necessidade:** Meu chuveiro está vazando, preciso de ajuda para consertar.\n",
            "\n",
            "**Ação:** Conectar o doador do serviço de encanamento com a pessoa que precisa de reparo no chuveiro em Biguaçu - SC.\n",
            "\n",
            "\n",
            "Sugestão de mensagem: Olá! Vemos que você oferece serviços de encanamento básico. Há uma pessoa em Biguaçu precisando de ajuda para consertar um vazamento no chuveiro, você poderia ajudá-la?\n",
            "\n",
            "\n",
            "------------------------------\n",
            "\n",
            "\n",
            "Fim das sugestões.\n"
          ]
        }
      ]
    }
  ]
}